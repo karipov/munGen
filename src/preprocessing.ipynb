{
 "cells": [
  {
   "cell_type": "code",
   "execution_count": 2,
   "metadata": {},
   "outputs": [],
   "source": [
    "import pandas as pd\n",
    "import numpy as np"
   ]
  },
  {
   "cell_type": "markdown",
   "metadata": {},
   "source": [
    "# Cleaning resolution metadata"
   ]
  },
  {
   "cell_type": "code",
   "execution_count": 3,
   "metadata": {},
   "outputs": [
    {
     "data": {
      "text/plain": [
       "'Financing of the United Nations Transitional\\r\\nAuthority in Cambodia'"
      ]
     },
     "execution_count": 3,
     "metadata": {},
     "output_type": "execute_result"
    }
   ],
   "source": [
    "df = pd.read_csv('meta/res_names.csv', usecols=['resolution', 'topic'])\n",
    "df.iloc[14, 1]"
   ]
  },
  {
   "cell_type": "code",
   "execution_count": 4,
   "metadata": {},
   "outputs": [
    {
     "data": {
      "text/plain": [
       "(8713, 2)"
      ]
     },
     "execution_count": 4,
     "metadata": {},
     "output_type": "execute_result"
    }
   ],
   "source": [
    "df.resolution = df.resolution.str.strip()\n",
    "df.topic = df.topic.str.strip()\n",
    "\n",
    "df = df.replace(r'^\\s*$', np.nan, regex=True)\n",
    "df = df.dropna()\n",
    "df.shape"
   ]
  },
  {
   "cell_type": "code",
   "execution_count": 5,
   "metadata": {},
   "outputs": [
    {
     "data": {
      "text/html": [
       "<div>\n",
       "<style scoped>\n",
       "    .dataframe tbody tr th:only-of-type {\n",
       "        vertical-align: middle;\n",
       "    }\n",
       "\n",
       "    .dataframe tbody tr th {\n",
       "        vertical-align: top;\n",
       "    }\n",
       "\n",
       "    .dataframe thead th {\n",
       "        text-align: right;\n",
       "    }\n",
       "</style>\n",
       "<table border=\"1\" class=\"dataframe\">\n",
       "  <thead>\n",
       "    <tr style=\"text-align: right;\">\n",
       "      <th></th>\n",
       "      <th>resolution</th>\n",
       "      <th>topic</th>\n",
       "    </tr>\n",
       "  </thead>\n",
       "  <tbody>\n",
       "    <tr>\n",
       "      <th>7467</th>\n",
       "      <td>A/RES/71/251</td>\n",
       "      <td>Establishment of the Technology Bank for the L...</td>\n",
       "    </tr>\n",
       "    <tr>\n",
       "      <th>1662</th>\n",
       "      <td>A/RES/52/18</td>\n",
       "      <td>Support by the UN of Governments' efforts to p...</td>\n",
       "    </tr>\n",
       "    <tr>\n",
       "      <th>4584</th>\n",
       "      <td>A/RES/61/34</td>\n",
       "      <td>Report of the International Law Commission on ...</td>\n",
       "    </tr>\n",
       "    <tr>\n",
       "      <th>8440</th>\n",
       "      <td>A/RES/74/265</td>\n",
       "      <td>Unforeseen and extraordinary expenses for 2020</td>\n",
       "    </tr>\n",
       "    <tr>\n",
       "      <th>1543</th>\n",
       "      <td>A/RES/52/112</td>\n",
       "      <td>Use of mercenaries to violate human rights</td>\n",
       "    </tr>\n",
       "  </tbody>\n",
       "</table>\n",
       "</div>"
      ],
      "text/plain": [
       "        resolution                                              topic\n",
       "7467  A/RES/71/251  Establishment of the Technology Bank for the L...\n",
       "1662   A/RES/52/18  Support by the UN of Governments' efforts to p...\n",
       "4584   A/RES/61/34  Report of the International Law Commission on ...\n",
       "8440  A/RES/74/265     Unforeseen and extraordinary expenses for 2020\n",
       "1543  A/RES/52/112         Use of mercenaries to violate human rights"
      ]
     },
     "execution_count": 5,
     "metadata": {},
     "output_type": "execute_result"
    }
   ],
   "source": [
    "def clean_resolutions(x):\n",
    "    \"\"\" Resolution names are used to query pdf documents. They should be as clean as possible.\"\"\"\n",
    "    parts = x.split()\n",
    "\n",
    "    if len(parts) > 1:\n",
    "        return parts[0].strip()\n",
    "    elif len(parts) == 0:\n",
    "        return np.nan\n",
    "    else:\n",
    "        return x.strip()\n",
    "\n",
    "df['resolution'] = df['resolution'].apply(clean_resolutions)\n",
    "df = df.replace(to_replace=[r\"\\\\t|\\\\n|\\\\r\", \"\\t|\\n|\\r\"], value=[\" \",\" \"], regex=True)\n",
    "df = df.replace('\\s+', ' ', regex=True)\n",
    "df = df.drop_duplicates(subset='resolution')\n",
    "df = df.drop_duplicates(subset='topic')\n",
    "df = df.dropna()\n",
    "\n",
    "df.sample(5)"
   ]
  },
  {
   "cell_type": "code",
   "execution_count": 6,
   "metadata": {},
   "outputs": [],
   "source": [
    "df.to_csv(\"meta/clean_res_names.csv\")"
   ]
  },
  {
   "cell_type": "code",
   "execution_count": 7,
   "metadata": {},
   "outputs": [
    {
     "data": {
      "text/html": [
       "<div>\n",
       "<style scoped>\n",
       "    .dataframe tbody tr th:only-of-type {\n",
       "        vertical-align: middle;\n",
       "    }\n",
       "\n",
       "    .dataframe tbody tr th {\n",
       "        vertical-align: top;\n",
       "    }\n",
       "\n",
       "    .dataframe thead th {\n",
       "        text-align: right;\n",
       "    }\n",
       "</style>\n",
       "<table border=\"1\" class=\"dataframe\">\n",
       "  <thead>\n",
       "    <tr style=\"text-align: right;\">\n",
       "      <th></th>\n",
       "      <th>resolution</th>\n",
       "      <th>topic</th>\n",
       "    </tr>\n",
       "  </thead>\n",
       "  <tbody>\n",
       "    <tr>\n",
       "      <th>0</th>\n",
       "      <td>A/RES/48/267</td>\n",
       "      <td>Mission for the Verification of Human Rights a...</td>\n",
       "    </tr>\n",
       "    <tr>\n",
       "      <th>1</th>\n",
       "      <td>A/RES/48/266</td>\n",
       "      <td>Emergency assistance to the Republic of Moldova</td>\n",
       "    </tr>\n",
       "    <tr>\n",
       "      <th>2</th>\n",
       "      <td>A/RES/48/265</td>\n",
       "      <td>Observer status for the Sovereign Military Ord...</td>\n",
       "    </tr>\n",
       "    <tr>\n",
       "      <th>3</th>\n",
       "      <td>A/RES/48/264</td>\n",
       "      <td>Revitalization of the work of the General Asse...</td>\n",
       "    </tr>\n",
       "    <tr>\n",
       "      <th>4</th>\n",
       "      <td>A/RES/48/263</td>\n",
       "      <td>Agreement relating to the Implementation of Pa...</td>\n",
       "    </tr>\n",
       "  </tbody>\n",
       "</table>\n",
       "</div>"
      ],
      "text/plain": [
       "     resolution                                              topic\n",
       "0  A/RES/48/267  Mission for the Verification of Human Rights a...\n",
       "1  A/RES/48/266    Emergency assistance to the Republic of Moldova\n",
       "2  A/RES/48/265  Observer status for the Sovereign Military Ord...\n",
       "3  A/RES/48/264  Revitalization of the work of the General Asse...\n",
       "4  A/RES/48/263  Agreement relating to the Implementation of Pa..."
      ]
     },
     "execution_count": 7,
     "metadata": {},
     "output_type": "execute_result"
    }
   ],
   "source": [
    "df.head()"
   ]
  },
  {
   "cell_type": "code",
   "execution_count": null,
   "metadata": {},
   "outputs": [],
   "source": []
  }
 ],
 "metadata": {
  "kernelspec": {
   "display_name": "ML",
   "language": "python",
   "name": "ml"
  },
  "language_info": {
   "codemirror_mode": {
    "name": "ipython",
    "version": 3
   },
   "file_extension": ".py",
   "mimetype": "text/x-python",
   "name": "python",
   "nbconvert_exporter": "python",
   "pygments_lexer": "ipython3",
   "version": "3.8.2"
  }
 },
 "nbformat": 4,
 "nbformat_minor": 4
}
